{
  "nbformat": 4,
  "nbformat_minor": 0,
  "metadata": {
    "colab": {
      "provenance": []
    },
    "kernelspec": {
      "name": "python3",
      "display_name": "Python 3"
    },
    "language_info": {
      "name": "python"
    }
  },
  "cells": [
    {
      "cell_type": "code",
      "execution_count": 1,
      "metadata": {
        "colab": {
          "base_uri": "https://localhost:8080/"
        },
        "id": "lCtN-aVasr55",
        "outputId": "35a94120-ba6d-42f5-d657-6a065fca8795"
      },
      "outputs": [
        {
          "output_type": "stream",
          "name": "stdout",
          "text": [
            "Requirement already satisfied: pandas in /usr/local/lib/python3.10/dist-packages (1.5.3)\n",
            "Requirement already satisfied: python-dateutil>=2.8.1 in /usr/local/lib/python3.10/dist-packages (from pandas) (2.8.2)\n",
            "Requirement already satisfied: pytz>=2020.1 in /usr/local/lib/python3.10/dist-packages (from pandas) (2023.4)\n",
            "Requirement already satisfied: numpy>=1.21.0 in /usr/local/lib/python3.10/dist-packages (from pandas) (1.25.2)\n",
            "Requirement already satisfied: six>=1.5 in /usr/local/lib/python3.10/dist-packages (from python-dateutil>=2.8.1->pandas) (1.16.0)\n"
          ]
        }
      ],
      "source": [
        "pip install pandas"
      ]
    },
    {
      "cell_type": "code",
      "source": [
        "!pip install numpy\n",
        "!pip install matplotlib\n"
      ],
      "metadata": {
        "colab": {
          "base_uri": "https://localhost:8080/"
        },
        "id": "vdDcr4o7swrV",
        "outputId": "405771a1-8b18-422c-cb60-51fe29801c9e"
      },
      "execution_count": 2,
      "outputs": [
        {
          "output_type": "stream",
          "name": "stdout",
          "text": [
            "Requirement already satisfied: numpy in /usr/local/lib/python3.10/dist-packages (1.25.2)\n",
            "Requirement already satisfied: matplotlib in /usr/local/lib/python3.10/dist-packages (3.7.1)\n",
            "Requirement already satisfied: contourpy>=1.0.1 in /usr/local/lib/python3.10/dist-packages (from matplotlib) (1.2.0)\n",
            "Requirement already satisfied: cycler>=0.10 in /usr/local/lib/python3.10/dist-packages (from matplotlib) (0.12.1)\n",
            "Requirement already satisfied: fonttools>=4.22.0 in /usr/local/lib/python3.10/dist-packages (from matplotlib) (4.50.0)\n",
            "Requirement already satisfied: kiwisolver>=1.0.1 in /usr/local/lib/python3.10/dist-packages (from matplotlib) (1.4.5)\n",
            "Requirement already satisfied: numpy>=1.20 in /usr/local/lib/python3.10/dist-packages (from matplotlib) (1.25.2)\n",
            "Requirement already satisfied: packaging>=20.0 in /usr/local/lib/python3.10/dist-packages (from matplotlib) (24.0)\n",
            "Requirement already satisfied: pillow>=6.2.0 in /usr/local/lib/python3.10/dist-packages (from matplotlib) (9.4.0)\n",
            "Requirement already satisfied: pyparsing>=2.3.1 in /usr/local/lib/python3.10/dist-packages (from matplotlib) (3.1.2)\n",
            "Requirement already satisfied: python-dateutil>=2.7 in /usr/local/lib/python3.10/dist-packages (from matplotlib) (2.8.2)\n",
            "Requirement already satisfied: six>=1.5 in /usr/local/lib/python3.10/dist-packages (from python-dateutil>=2.7->matplotlib) (1.16.0)\n"
          ]
        }
      ]
    },
    {
      "cell_type": "code",
      "source": [
        "!pip install scikit"
      ],
      "metadata": {
        "colab": {
          "base_uri": "https://localhost:8080/"
        },
        "id": "KFDb6GUQt1j1",
        "outputId": "92f6518a-4635-40b0-c905-2b07b64da543"
      },
      "execution_count": 3,
      "outputs": [
        {
          "output_type": "stream",
          "name": "stdout",
          "text": [
            "\u001b[31mERROR: Could not find a version that satisfies the requirement scikit (from versions: none)\u001b[0m\u001b[31m\n",
            "\u001b[0m\u001b[31mERROR: No matching distribution found for scikit\u001b[0m\u001b[31m\n",
            "\u001b[0m"
          ]
        }
      ]
    },
    {
      "cell_type": "code",
      "source": [
        "import numpy as np\n",
        "import matplotlib.pyplot as plt\n",
        "import pandas as pd\n",
        "import pandas_datareader as web\n",
        "import datetime as dt\n",
        "from sklearn.preprocessing import MinMaxScaler\n",
        "from tensorflow.keras.layers import Dense, Dropout, LSTM\n",
        "from tensorflow.keras.models import Sequential\n",
        "import yfinance as yf\n",
        "\n",
        "# Fetching data\n",
        "crypto_currency = 'BTC-USD'\n",
        "start = '2016-01-01'\n",
        "end = dt.datetime.now()\n",
        "data = yf.download(crypto_currency, start=start, end=end)\n",
        "\n",
        "# Scaling data\n",
        "scaler = MinMaxScaler(feature_range=(0,1))\n",
        "scaled_data = scaler.fit_transform(data['Close'].values.reshape(-1,1))\n",
        "\n",
        "# Prepare training data\n",
        "prediction_days = 30\n",
        "x_train, y_train = [], []\n",
        "for x in range(prediction_days, len(scaled_data)):\n",
        "    x_train.append(scaled_data[x-prediction_days:x, 0])\n",
        "    y_train.append(scaled_data[x, 0])\n",
        "\n",
        "# Convert to numpy arrays\n",
        "x_train, y_train = np.array(x_train), np.array(y_train)\n",
        "\n",
        "# Reshape data for LSTM\n",
        "x_train = np.reshape(x_train, (x_train.shape[0], x_train.shape[1], 1))\n",
        "\n",
        "# Build the model\n",
        "model = Sequential()\n",
        "model.add(LSTM(units=50, return_sequences=True, input_shape=(x_train.shape[1], 1)))\n",
        "model.add(Dropout(0.2))\n",
        "model.add(LSTM(units=50, return_sequences=True))\n",
        "model.add(Dropout(0.2))\n",
        "model.add(LSTM(units=50))\n",
        "model.add(Dropout(0.2))\n",
        "model.add(Dense(units=1))\n",
        "model.compile(loss='mean_squared_error', optimizer='adam')\n",
        "\n",
        "# Train the model\n",
        "model.fit(x_train, y_train, epochs=15, batch_size=32)\n",
        "\n",
        "# Prepare test data\n",
        "test_start = dt.datetime(2024, 3, 27)\n",
        "test_end = dt.datetime.now()\n",
        "test_data = yf.download(crypto_currency, start=test_start, end=test_end)\n",
        "actual_prices = test_data['Close'].values\n",
        "\n",
        "total_dataset = pd.concat((data['Close'], test_data['Close']), axis=0)\n",
        "model_inputs = total_dataset[len(total_dataset) - len(test_data) - prediction_days:].values\n",
        "model_inputs = model_inputs.reshape(-1, 1)\n",
        "model_inputs = scaler.transform(model_inputs)\n",
        "model.save('my_model.h5')\n",
        "if len(model_inputs) < prediction_days:\n",
        "    print(\"Insufficient data for prediction. Please ensure you have enough historical data.\")\n",
        "else:\n",
        "    x_test = []\n",
        "    for x in range(prediction_days, len(model_inputs)):\n",
        "        x_test.append(model_inputs[x - prediction_days:x, 0])\n",
        "\n",
        "    x_test = np.array(x_test)\n",
        "    x_test = np.reshape(x_test, (x_test.shape[0], x_test.shape[1], 1))\n",
        "\n",
        "    # Predict prices\n",
        "    prediction_prices = model.predict(x_test)\n",
        "    prediction_prices = scaler.inverse_transform(prediction_prices)\n",
        "\n",
        "    # Plot actual and predicted prices\n",
        "    plt.plot(actual_prices, color='black', label='Actual Prices')\n",
        "    plt.plot(prediction_prices, color='green', label='Predicted Prices')\n",
        "    plt.title(f'{crypto_currency} price prediction')\n",
        "    plt.xlabel('Time')\n",
        "    plt.ylabel('Price')\n",
        "    plt.legend()\n",
        "    plt.show()\n",
        "    last_days = data['Close'][-prediction_days:].values\n",
        "last_days_scaled = scaler.transform(last_days.reshape(-1,1))\n",
        "\n",
        "# Reshape input data for LSTM\n",
        "X_test = np.array([last_days_scaled])\n",
        "\n",
        "# Reshape input data for LSTM\n",
        "X_test = np.reshape(X_test, (X_test.shape[0], X_test.shape[1], 1))\n",
        "\n",
        "# Make prediction for the next day\n",
        "predicted_prices = model.predict(X_test)\n",
        "\n",
        "# Inverse transform the predicted prices\n",
        "predicted_prices = scaler.inverse_transform(predicted_prices)\n",
        "print(\"Next Day\", \":\", predicted_prices[i])\n",
        "\n"
      ],
      "metadata": {
        "colab": {
          "base_uri": "https://localhost:8080/",
          "height": 1000
        },
        "id": "dNjT6EAn_riq",
        "outputId": "8935fbed-d157-41e6-c354-90c97419baee"
      },
      "execution_count": 18,
      "outputs": [
        {
          "output_type": "stream",
          "name": "stderr",
          "text": [
            "\r[*********************100%%**********************]  1 of 1 completed\n"
          ]
        },
        {
          "output_type": "stream",
          "name": "stdout",
          "text": [
            "Epoch 1/15\n",
            "94/94 [==============================] - 11s 42ms/step - loss: 0.0095\n",
            "Epoch 2/15\n",
            "94/94 [==============================] - 4s 40ms/step - loss: 0.0024\n",
            "Epoch 3/15\n",
            "94/94 [==============================] - 5s 51ms/step - loss: 0.0026\n",
            "Epoch 4/15\n",
            "94/94 [==============================] - 4s 42ms/step - loss: 0.0022\n",
            "Epoch 5/15\n",
            "94/94 [==============================] - 4s 41ms/step - loss: 0.0019\n",
            "Epoch 6/15\n",
            "94/94 [==============================] - 5s 52ms/step - loss: 0.0015\n",
            "Epoch 7/15\n",
            "94/94 [==============================] - 4s 41ms/step - loss: 0.0018\n",
            "Epoch 8/15\n",
            "94/94 [==============================] - 4s 40ms/step - loss: 0.0016\n",
            "Epoch 9/15\n",
            "94/94 [==============================] - 5s 52ms/step - loss: 0.0015\n",
            "Epoch 10/15\n",
            "94/94 [==============================] - 4s 40ms/step - loss: 0.0017\n",
            "Epoch 11/15\n",
            "94/94 [==============================] - 4s 40ms/step - loss: 0.0018\n",
            "Epoch 12/15\n",
            "94/94 [==============================] - 5s 53ms/step - loss: 0.0013\n",
            "Epoch 13/15\n",
            "94/94 [==============================] - 4s 41ms/step - loss: 0.0014\n",
            "Epoch 14/15\n",
            "94/94 [==============================] - 4s 42ms/step - loss: 0.0011\n",
            "Epoch 15/15\n",
            "94/94 [==============================] - 6s 63ms/step - loss: 0.0011\n"
          ]
        },
        {
          "output_type": "stream",
          "name": "stderr",
          "text": [
            "\r[*********************100%%**********************]  1 of 1 completed\n",
            "/usr/local/lib/python3.10/dist-packages/keras/src/engine/training.py:3103: UserWarning: You are saving your model as an HDF5 file via `model.save()`. This file format is considered legacy. We recommend using instead the native Keras format, e.g. `model.save('my_model.keras')`.\n",
            "  saving_api.save_model(\n",
            "WARNING:tensorflow:6 out of the last 9 calls to <function Model.make_predict_function.<locals>.predict_function at 0x7e512493a7a0> triggered tf.function retracing. Tracing is expensive and the excessive number of tracings could be due to (1) creating @tf.function repeatedly in a loop, (2) passing tensors with different shapes, (3) passing Python objects instead of tensors. For (1), please define your @tf.function outside of the loop. For (2), @tf.function has reduce_retracing=True option that can avoid unnecessary retracing. For (3), please refer to https://www.tensorflow.org/guide/function#controlling_retracing and https://www.tensorflow.org/api_docs/python/tf/function for  more details.\n"
          ]
        },
        {
          "output_type": "stream",
          "name": "stdout",
          "text": [
            "1/1 [==============================] - 2s 2s/step\n"
          ]
        },
        {
          "output_type": "display_data",
          "data": {
            "text/plain": [
              "<Figure size 640x480 with 1 Axes>"
            ],
            "image/png": "[encoded data removed]"
          },
          "metadata": {}
        }
      ]
    },
    {
      "cell_type": "code",
      "source": [
        "last_days = data['Close'][-prediction_days:].values\n",
        "last_days_scaled = scaler.transform(last_days.reshape(-1,1))\n",
        "\n",
        "# Reshape input data for LSTM\n",
        "X_test = np.array([last_days_scaled])\n",
        "\n",
        "# Reshape input data for LSTM\n",
        "X_test = np.reshape(X_test, (X_test.shape[0], X_test.shape[1], 1))\n",
        "\n",
        "# Make prediction for the next day\n",
        "predicted_prices = model.predict(X_test)\n",
        "\n",
        "# Inverse transform the predicted prices\n",
        "predicted_prices = scaler.inverse_transform(predicted_prices)\n",
        "print(\"Next Day\", \":\", predicted_prices[i])\n"
      ],
      "metadata": {
        "colab": {
          "base_uri": "https://localhost:8080/"
        },
        "id": "0wyqEKCBBNCH",
        "outputId": "ff9969ef-c2de-46b0-a8af-a34e152a4ec6"
      },
      "execution_count": 22,
      "outputs": [
        {
          "output_type": "stream",
          "name": "stdout",
          "text": [
            "1/1 [==============================] - 0s 30ms/step\n",
            "Next Day : [66386.484]\n"
          ]
        }
      ]
    },
    {
      "cell_type": "code",
      "source": [],
      "metadata": {
        "id": "aaiFJkqoEoI5"
      },
      "execution_count": 21,
      "outputs": []
    }
  ]
}